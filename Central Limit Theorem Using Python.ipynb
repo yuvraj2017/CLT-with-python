{
 "cells": [
  {
   "cell_type": "markdown",
   "id": "039eb985",
   "metadata": {},
   "source": [
    "# CENTERAL LIMIT THEORAM"
   ]
  },
  {
   "cell_type": "code",
   "execution_count": 63,
   "id": "499f6cc7",
   "metadata": {},
   "outputs": [],
   "source": [
    "import numpy as np\n",
    "import matplotlib.pyplot as plt\n",
    "from scipy import stats as st"
   ]
  },
  {
   "cell_type": "code",
   "execution_count": 2,
   "id": "18686668",
   "metadata": {},
   "outputs": [],
   "source": [
    "import seaborn as sns"
   ]
  },
  {
   "cell_type": "markdown",
   "id": "8d694356",
   "metadata": {},
   "source": [
    "# <center> 1st experiment"
   ]
  },
  {
   "cell_type": "code",
   "execution_count": 3,
   "id": "5c93eea1",
   "metadata": {},
   "outputs": [
    {
     "data": {
      "text/plain": [
       "array([510, 337, 141, ...,  44, 967, 586])"
      ]
     },
     "execution_count": 3,
     "metadata": {},
     "output_type": "execute_result"
    }
   ],
   "source": [
    "data = np.random.randint(20,1000,100000) #population with unknown distribution\n",
    "data"
   ]
  },
  {
   "cell_type": "code",
   "execution_count": 4,
   "id": "ec112dec",
   "metadata": {},
   "outputs": [
    {
     "data": {
      "image/png": "[encoded data removed]",
      "text/plain": [
       "<Figure size 432x288 with 1 Axes>"
      ]
     },
     "metadata": {
      "needs_background": "light"
     },
     "output_type": "display_data"
    },
    {
     "data": {
      "text/plain": [
       "(508.67663, 283.03693451887705)"
      ]
     },
     "execution_count": 4,
     "metadata": {},
     "output_type": "execute_result"
    }
   ],
   "source": [
    "mu = np.mean(data)      #mean of popultion\n",
    "\n",
    "sigma = np.std(data)    #standard daviation of population\n",
    "\n",
    "\n",
    "graph1 = plt.hist(data,50)\n",
    "plt.show()\n",
    "(mu,sigma)"
   ]
  },
  {
   "cell_type": "code",
   "execution_count": 5,
   "id": "49044631",
   "metadata": {},
   "outputs": [
    {
     "data": {
      "image/png": "[encoded data removed]",
      "text/plain": [
       "<Figure size 432x288 with 1 Axes>"
      ]
     },
     "metadata": {
      "needs_background": "light"
     },
     "output_type": "display_data"
    },
    {
     "data": {
      "text/plain": [
       "(509.17492999999996, 284.23620045340164)"
      ]
     },
     "execution_count": 5,
     "metadata": {},
     "output_type": "execute_result"
    }
   ],
   "source": [
    "xbar = []    #means of samples\n",
    "k = 10000    #number of times takiung samples\n",
    "n = 30       #number of values taken in one sample\n",
    "\n",
    "#loop for taking n samples k times and store the means of samples in one list\n",
    "for i in range(0,k):\n",
    "    sample = np.random.choice(data,n,replace=0)    #sample\n",
    "    mean = np.mean(sample)                         #mean of sample\n",
    "    xbar.append(mean)                              #store mean into list\n",
    "\n",
    "graph2 = plt.hist(xbar,50)\n",
    "plt.show()\n",
    "(np.mean(xbar),np.std(xbar)*n**0.5)"
   ]
  },
  {
   "cell_type": "code",
   "execution_count": 6,
   "id": "f8e350cc",
   "metadata": {},
   "outputs": [
    {
     "data": {
      "image/png": "[encoded data removed]",
      "text/plain": [
       "<Figure size 432x288 with 1 Axes>"
      ]
     },
     "metadata": {
      "needs_background": "light"
     },
     "output_type": "display_data"
    }
   ],
   "source": [
    "z = (xbar-mu )/(sigma/100**0.5)    #z score of means of sample\n",
    "\n",
    "graph3 = plt.hist(z,50)            \n",
    "plt.show()"
   ]
  },
  {
   "cell_type": "code",
   "execution_count": 7,
   "id": "8d75768a",
   "metadata": {},
   "outputs": [
    {
     "name": "stdout",
     "output_type": "stream",
     "text": [
      "confidance interval is 0.8998\n",
      "mean of population and standard deviation of population is (508.67663, 283.03693451887705)\n",
      "mean of sample means and standard deviation of sample means is (509.17492999999996, 51.894192882629405) for sample size 30\n"
     ]
    }
   ],
   "source": [
    "alpha = 0.05    #alpha/2\n",
    "\n",
    "z = st.norm.isf(alpha)  #z score for alpha\n",
    "\n",
    "up = mu +(z*sigma/np.sqrt(n))  #mu + z alpha/2 X sigma/root(n) \n",
    "low = mu - (z*sigma/np.sqrt(n)) #mu + z alpha/2 X sigma/root(n)\n",
    "\n",
    "\n",
    "c = (sum(xbar>low) - sum(xbar>up))/len(xbar)   #percent of values falling between low and up value \n",
    "\n",
    "print('confidance interval is',c)\n",
    "print('mean of population and standard deviation of population is',(mu,sigma))\n",
    "print('mean of sample means and standard deviation of sample means is',(np.mean(xbar),np.std(xbar)),'for sample size',n)"
   ]
  },
  {
   "cell_type": "code",
   "execution_count": 64,
   "id": "ca360246",
   "metadata": {},
   "outputs": [
    {
     "data": {
      "text/plain": [
       "array([0.17296156, 0.32070433, 0.39355537, ..., 0.82869716, 0.92440486,\n",
       "       0.2186426 ])"
      ]
     },
     "execution_count": 64,
     "metadata": {},
     "output_type": "execute_result"
    }
   ],
   "source": [
    "data = np.random.random(10000) #population with unknown distribution\n",
    "data"
   ]
  },
  {
   "cell_type": "code",
   "execution_count": 65,
   "id": "c8315e49",
   "metadata": {},
   "outputs": [
    {
     "data": {
      "image/png": "[encoded data removed]",
      "text/plain": [
       "<Figure size 432x288 with 1 Axes>"
      ]
     },
     "metadata": {
      "needs_background": "light"
     },
     "output_type": "display_data"
    },
    {
     "data": {
      "text/plain": [
       "(0.5036936305084034, 0.28676544660729153)"
      ]
     },
     "execution_count": 65,
     "metadata": {},
     "output_type": "execute_result"
    }
   ],
   "source": [
    "mu = np.mean(data)      #mean of popultion\n",
    "\n",
    "sigma = np.std(data)    #standard daviation of population\n",
    "\n",
    "\n",
    "graph1 = plt.hist(data,150)\n",
    "plt.show()\n",
    "(mu,sigma)"
   ]
  },
  {
   "cell_type": "code",
   "execution_count": 73,
   "id": "e53c2c8b",
   "metadata": {},
   "outputs": [
    {
     "data": {
      "text/plain": [
       "9912"
      ]
     },
     "execution_count": 73,
     "metadata": {},
     "output_type": "execute_result"
    }
   ],
   "source": [
    "sum(data>0.01)"
   ]
  },
  {
   "cell_type": "code",
   "execution_count": 74,
   "id": "e3deb377",
   "metadata": {},
   "outputs": [
    {
     "data": {
      "text/plain": [
       "0.9912"
      ]
     },
     "execution_count": 74,
     "metadata": {},
     "output_type": "execute_result"
    }
   ],
   "source": [
    "sum(data>0.01)/len(data)"
   ]
  },
  {
   "cell_type": "code",
   "execution_count": 76,
   "id": "b4164c64",
   "metadata": {},
   "outputs": [
    {
     "data": {
      "image/png": "[encoded data removed]",
      "text/plain": [
       "<Figure size 432x288 with 1 Axes>"
      ]
     },
     "metadata": {
      "needs_background": "light"
     },
     "output_type": "display_data"
    }
   ],
   "source": [
    "prop = []    #means of samples\n",
    "k = 10000    #number of times takiung samples\n",
    "n = 600       #number of values taken in one sample\n",
    "\n",
    "#loop for taking n samples k times and store the means of samples in one list\n",
    "for i in range(0,k):\n",
    "    sample = np.random.choice(data,n,replace=0)    #sample\n",
    "    propsamp = sum(sample>0.01)/len(sample)                         #mean of sample\n",
    "    prop.append(propsamp)                              #store mean into list\n",
    "\n",
    "graph2 = plt.hist(prop,50)\n",
    "plt.show()"
   ]
  },
  {
   "cell_type": "code",
   "execution_count": 77,
   "id": "736dd73a",
   "metadata": {},
   "outputs": [
    {
     "data": {
      "text/plain": [
       "0.9912253333333334"
      ]
     },
     "execution_count": 77,
     "metadata": {},
     "output_type": "execute_result"
    }
   ],
   "source": [
    "np.mean(prop)"
   ]
  },
  {
   "cell_type": "markdown",
   "id": "d78f769d",
   "metadata": {},
   "source": [
    "# <center> 2nd experiment"
   ]
  },
  {
   "cell_type": "code",
   "execution_count": null,
   "id": "189ee43f",
   "metadata": {},
   "outputs": [],
   "source": [
    "data = np.random.random_sample"
   ]
  },
  {
   "cell_type": "code",
   "execution_count": null,
   "id": "a8f01e38",
   "metadata": {},
   "outputs": [],
   "source": []
  },
  {
   "cell_type": "code",
   "execution_count": null,
   "id": "6b66d962",
   "metadata": {},
   "outputs": [],
   "source": []
  },
  {
   "cell_type": "code",
   "execution_count": null,
   "id": "1e5de887",
   "metadata": {},
   "outputs": [],
   "source": []
  },
  {
   "cell_type": "code",
   "execution_count": null,
   "id": "3052cf2d",
   "metadata": {},
   "outputs": [],
   "source": []
  },
  {
   "cell_type": "code",
   "execution_count": null,
   "id": "0812e0a7",
   "metadata": {},
   "outputs": [],
   "source": []
  },
  {
   "cell_type": "code",
   "execution_count": 32,
   "id": "b51ed3ce",
   "metadata": {},
   "outputs": [
    {
     "data": {
      "image/png": "[encoded data removed]",
      "text/plain": [
       "<Figure size 432x288 with 1 Axes>"
      ]
     },
     "metadata": {
      "needs_background": "light"
     },
     "output_type": "display_data"
    },
    {
     "data": {
      "image/png": "[encoded data removed]",
      "text/plain": [
       "<Figure size 432x288 with 1 Axes>"
      ]
     },
     "metadata": {
      "needs_background": "light"
     },
     "output_type": "display_data"
    },
    {
     "data": {
      "image/png": "[encoded data removed]",
      "text/plain": [
       "<Figure size 432x288 with 1 Axes>"
      ]
     },
     "metadata": {
      "needs_background": "light"
     },
     "output_type": "display_data"
    },
    {
     "name": "stdout",
     "output_type": "stream",
     "text": [
      "confidance interval is 0.9007\n",
      "mean of population and standard deviation of population is (509.32073, 282.50220388922116)\n",
      "mean of sample means and standard deviation of sample means is (509.02526800000004, 22.99014283342993) for sample size 150\n"
     ]
    }
   ],
   "source": [
    "data = np.random.randint(20,1000,100000)\n",
    "\n",
    "mu = np.mean(data)\n",
    "\n",
    "sigma = np.std(data)\n",
    "\n",
    "\n",
    "graph1 = plt.hist(data,50)\n",
    "plt.show()\n",
    "\n",
    "\n",
    "xbar = []\n",
    "k = 10000\n",
    "n = 150                  #number of values in single sample is 150\n",
    "for i in range(0,k):\n",
    "    sample = np.random.choice(data,n,replace=0)\n",
    "    mean = np.mean(sample)\n",
    "    xbar.append(mean)\n",
    "\n",
    "graph2 = plt.hist(xbar,50)\n",
    "plt.show()\n",
    "z = (xbar-mu )/(sigma/100**0.5)\n",
    "\n",
    "\n",
    "graph3 = plt.hist(z,50)\n",
    "plt.show()\n",
    "\n",
    "alpha = 0.05    #alpha/2\n",
    "z = st.norm.isf(alpha)\n",
    "up = mu +(z*sigma/np.sqrt(n))  #mu + z alpha/2 X sigma/root(n)\n",
    "low = mu - (z*sigma/np.sqrt(n)) #mu + z alpha/2 X sigma/root(n)\n",
    "c = (sum(xbar>low) - sum(xbar>up))/len(xbar)\n",
    "\n",
    "print('confidance interval is',c)\n",
    "print('mean of population and standard deviation of population is',(mu,sigma))\n",
    "print('mean of sample means and standard deviation of sample means is',(np.mean(xbar),np.std(xbar)),'for sample size',n)"
   ]
  },
  {
   "cell_type": "markdown",
   "id": "951ea32a",
   "metadata": {},
   "source": [
    "# <center> 3rd experiment"
   ]
  },
  {
   "cell_type": "code",
   "execution_count": 33,
   "id": "958f84ad",
   "metadata": {},
   "outputs": [
    {
     "data": {
      "image/png": "[encoded data removed]",
      "text/plain": [
       "<Figure size 432x288 with 1 Axes>"
      ]
     },
     "metadata": {
      "needs_background": "light"
     },
     "output_type": "display_data"
    },
    {
     "data": {
      "image/png": "[encoded data removed]",
      "text/plain": [
       "<Figure size 432x288 with 1 Axes>"
      ]
     },
     "metadata": {
      "needs_background": "light"
     },
     "output_type": "display_data"
    },
    {
     "data": {
      "image/png": "[encoded data removed]",
      "text/plain": [
       "<Figure size 432x288 with 1 Axes>"
      ]
     },
     "metadata": {
      "needs_background": "light"
     },
     "output_type": "display_data"
    },
    {
     "name": "stdout",
     "output_type": "stream",
     "text": [
      "confidance interval is 0.9068\n",
      "mean of population and standard deviation of population is (2546.42796, 1414.4827749146466)\n",
      "mean of sample means and standard deviation of sample means is (2543.8379633333334, 255.92510072112634) for sample size 30\n"
     ]
    }
   ],
   "source": [
    "data = np.random.randint(100,5000,100000) #population with unknown distribution \n",
    "\n",
    "mu = np.mean(data)\n",
    "\n",
    "sigma = np.std(data)\n",
    "\n",
    "\n",
    "graph1 = plt.hist(data,50)\n",
    "plt.show()\n",
    "\n",
    "\n",
    "xbar = []\n",
    "k = 10000\n",
    "n = 30                  #number of values in single sample is 30\n",
    "for i in range(0,k):\n",
    "    sample = np.random.choice(data,n,replace=0)\n",
    "    mean = np.mean(sample)\n",
    "    xbar.append(mean)\n",
    "\n",
    "graph2 = plt.hist(xbar,50)\n",
    "plt.show()\n",
    "z = (xbar-mu )/(sigma/100**0.5)\n",
    "\n",
    "\n",
    "graph3 = plt.hist(z,50)\n",
    "plt.show()\n",
    "\n",
    "alpha = 0.05    #alpha/2\n",
    "z = st.norm.isf(alpha)\n",
    "up = mu +(z*sigma/np.sqrt(n))  #mu + z alpha/2 X sigma/root(n)\n",
    "low = mu - (z*sigma/np.sqrt(n)) #mu + z alpha/2 X sigma/root(n)\n",
    "c = (sum(xbar>low) - sum(xbar>up))/len(xbar)\n",
    "\n",
    "print('confidance interval is',c)\n",
    "print('mean of population and standard deviation of population is',(mu,sigma))\n",
    "print('mean of sample means and standard deviation of sample means is',(np.mean(xbar),np.std(xbar)),'for sample size',n)"
   ]
  },
  {
   "cell_type": "markdown",
   "id": "96509031",
   "metadata": {},
   "source": [
    "# <center> 4th experiment"
   ]
  },
  {
   "cell_type": "code",
   "execution_count": 34,
   "id": "e2d8c2cc",
   "metadata": {},
   "outputs": [
    {
     "data": {
      "image/png": "[encoded data removed]",
      "text/plain": [
       "<Figure size 432x288 with 1 Axes>"
      ]
     },
     "metadata": {
      "needs_background": "light"
     },
     "output_type": "display_data"
    },
    {
     "data": {
      "image/png": "[encoded data removed]",
      "text/plain": [
       "<Figure size 432x288 with 1 Axes>"
      ]
     },
     "metadata": {
      "needs_background": "light"
     },
     "output_type": "display_data"
    },
    {
     "data": {
      "image/png": "[encoded data removed]",
      "text/plain": [
       "<Figure size 432x288 with 1 Axes>"
      ]
     },
     "metadata": {
      "needs_background": "light"
     },
     "output_type": "display_data"
    },
    {
     "name": "stdout",
     "output_type": "stream",
     "text": [
      "confidance interval is 0.8945\n",
      "mean of population and standard deviation of population is (25335358.376, 14303541.020512514)\n",
      "mean of sample means and standard deviation of sample means is (25321320.91158, 4543849.8163384255) for sample size 10\n"
     ]
    }
   ],
   "source": [
    "data = np.random.randint(100,50000000,1000) #population with unknown distribution \n",
    "\n",
    "mu = np.mean(data)\n",
    "\n",
    "sigma = np.std(data)\n",
    "\n",
    "\n",
    "graph1 = plt.hist(data,50)\n",
    "plt.show()\n",
    "\n",
    "\n",
    "xbar = []\n",
    "k = 10000\n",
    "n = 10                  #number of values in single sample is 10\n",
    "for i in range(0,k):\n",
    "    sample = np.random.choice(data,n,replace=0)\n",
    "    mean = np.mean(sample)\n",
    "    xbar.append(mean)\n",
    "\n",
    "graph2 = plt.hist(xbar,50)\n",
    "plt.show()\n",
    "z = (xbar-mu )/(sigma/100**0.5)\n",
    "\n",
    "\n",
    "graph3 = plt.hist(z,50)\n",
    "plt.show()\n",
    "\n",
    "alpha = 0.05    #alpha/2\n",
    "z = st.norm.isf(alpha)\n",
    "up = mu +(z*sigma/np.sqrt(n))  #mu + z alpha/2 X sigma/root(n)\n",
    "low = mu - (z*sigma/np.sqrt(n)) #mu + z alpha/2 X sigma/root(n)\n",
    "c = (sum(xbar>low) - sum(xbar>up))/len(xbar)\n",
    "\n",
    "print('confidance interval is',c)\n",
    "print('mean of population and standard deviation of population is',(mu,sigma))\n",
    "print('mean of sample means and standard deviation of sample means is',(np.mean(xbar),np.std(xbar)),'for sample size',n)"
   ]
  },
  {
   "cell_type": "markdown",
   "id": "b65f3636",
   "metadata": {},
   "source": [
    "# <center> 5th experiment"
   ]
  },
  {
   "cell_type": "code",
   "execution_count": 35,
   "id": "46df2fe2",
   "metadata": {},
   "outputs": [
    {
     "name": "stdout",
     "output_type": "stream",
     "text": [
      "confidance interval is 0.9501\n",
      "mean of population and standard deviation of population is (1.0045050271678098, 3.005165189912847)\n",
      "mean of sample means and standard deviation of sample means is (1.0032776282688312, 0.9503764773641946) for sample size 10\n"
     ]
    },
    {
     "data": {
      "image/png": "[encoded data removed]",
      "text/plain": [
       "<Figure size 360x360 with 1 Axes>"
      ]
     },
     "metadata": {
      "needs_background": "light"
     },
     "output_type": "display_data"
    },
    {
     "data": {
      "image/png": "[encoded data removed]",
      "text/plain": [
       "<Figure size 360x360 with 1 Axes>"
      ]
     },
     "metadata": {
      "needs_background": "light"
     },
     "output_type": "display_data"
    },
    {
     "data": {
      "image/png": "[encoded data removed]",
      "text/plain": [
       "<Figure size 360x360 with 1 Axes>"
      ]
     },
     "metadata": {
      "needs_background": "light"
     },
     "output_type": "display_data"
    }
   ],
   "source": [
    "data = np.random.normal(loc=1, scale=3, size=100000) # normal distribution\n",
    "\n",
    "mu = np.mean(data)\n",
    "\n",
    "sigma = np.std(data)\n",
    "\n",
    "\n",
    "sns.displot(data)\n",
    "\n",
    "\n",
    "xbar = []\n",
    "k = 10000\n",
    "n = 10                  #number of values in single sample is 10 less than 30\n",
    "for i in range(0,k):\n",
    "    sample = np.random.choice(data,n,replace=0)\n",
    "    mean = np.mean(sample)\n",
    "    xbar.append(mean)\n",
    "\n",
    "sns.displot(xbar)\n",
    "\n",
    "z1 = (xbar-mu )/(sigma/100**0.5)\n",
    "\n",
    "\n",
    "sns.displot(z1)\n",
    "\n",
    "\n",
    "alpha = 0.025    #alpha/2\n",
    "z = st.norm.isf(alpha)\n",
    "up = mu +(z*sigma/np.sqrt(n))  #mu + z alpha/2 X sigma/root(n)\n",
    "low = mu - (z*sigma/np.sqrt(n)) #mu + z alpha/2 X sigma/root(n)\n",
    "c = (sum(xbar>low) - sum(xbar>up))/len(xbar)\n",
    "\n",
    "print('confidance interval is',c)\n",
    "print('mean of population and standard deviation of population is',(mu,sigma))\n",
    "print('mean of sample means and standard deviation of sample means is',(np.mean(xbar),np.std(xbar)),'for sample size',n)"
   ]
  },
  {
   "cell_type": "code",
   "execution_count": 36,
   "id": "0ea9e96f",
   "metadata": {},
   "outputs": [
    {
     "name": "stdout",
     "output_type": "stream",
     "text": [
      "confidance interval is 0.9977\n"
     ]
    }
   ],
   "source": [
    "#took alpha smaller\n",
    "\n",
    "alpha = 0.001    #alpha/2\n",
    "z = st.norm.isf(alpha)\n",
    "up = mu +(z*sigma/np.sqrt(n))  #mu + z alpha/2 X sigma/root(n)\n",
    "low = mu - (z*sigma/np.sqrt(n)) #mu + z alpha/2 X sigma/root(n)\n",
    "c = (sum(xbar>low) - sum(xbar>up))/len(xbar)\n",
    "\n",
    "print('confidance interval is',c)"
   ]
  },
  {
   "cell_type": "markdown",
   "id": "9331022e",
   "metadata": {},
   "source": [
    "# <center> designing experiment"
   ]
  },
  {
   "cell_type": "code",
   "execution_count": 37,
   "id": "9cc6dde1",
   "metadata": {},
   "outputs": [
    {
     "data": {
      "text/plain": [
       "1.0045050271678098"
      ]
     },
     "execution_count": 37,
     "metadata": {},
     "output_type": "execute_result"
    }
   ],
   "source": [
    "mu = np.mean(data)\n",
    "mu"
   ]
  },
  {
   "cell_type": "code",
   "execution_count": 38,
   "id": "ffbe6fab",
   "metadata": {},
   "outputs": [
    {
     "data": {
      "text/plain": [
       "9.031017818663917"
      ]
     },
     "execution_count": 38,
     "metadata": {},
     "output_type": "execute_result"
    }
   ],
   "source": [
    "np.var(data)"
   ]
  },
  {
   "cell_type": "code",
   "execution_count": 39,
   "id": "039ed3f3",
   "metadata": {},
   "outputs": [
    {
     "data": {
      "text/plain": [
       "3.005165189912847"
      ]
     },
     "execution_count": 39,
     "metadata": {},
     "output_type": "execute_result"
    }
   ],
   "source": [
    "sigma = np.std(data)\n",
    "sigma"
   ]
  },
  {
   "cell_type": "code",
   "execution_count": 40,
   "id": "ecfb4d05",
   "metadata": {},
   "outputs": [
    {
     "data": {
      "image/png": "[encoded data removed]",
      "text/plain": [
       "<Figure size 432x288 with 1 Axes>"
      ]
     },
     "metadata": {
      "needs_background": "light"
     },
     "output_type": "display_data"
    }
   ],
   "source": [
    "import matplotlib.pyplot as plt\n",
    "graph = plt.hist(data,50)\n",
    "plt.show()"
   ]
  },
  {
   "cell_type": "code",
   "execution_count": 41,
   "id": "5cdb9da3",
   "metadata": {},
   "outputs": [
    {
     "data": {
      "text/plain": [
       "array([ 0.89863969, -3.39270429,  1.8623965 ,  2.56211921, -0.277872  ,\n",
       "        1.74845889, -6.51314389, -0.27836146,  1.95500311,  2.74432149,\n",
       "        4.25172301, -5.97236523, -4.80299969, -0.31383662,  3.56060873,\n",
       "        1.75622795,  1.62247179, -4.91254594,  1.0834253 , -3.78223721,\n",
       "        0.71647656,  2.82302218,  2.88519504, -0.68652502,  5.61123165,\n",
       "       -0.89770318, -1.7001355 ,  6.32769622,  6.0015    ,  0.32858522])"
      ]
     },
     "execution_count": 41,
     "metadata": {},
     "output_type": "execute_result"
    }
   ],
   "source": [
    "sample = np.random.choice(data,30,replace=0)\n",
    "sample"
   ]
  },
  {
   "cell_type": "code",
   "execution_count": 42,
   "id": "0f70805b",
   "metadata": {},
   "outputs": [
    {
     "data": {
      "text/plain": [
       "0.5069557499323548"
      ]
     },
     "execution_count": 42,
     "metadata": {},
     "output_type": "execute_result"
    }
   ],
   "source": [
    "mean = np.mean(sample)\n",
    "mean"
   ]
  },
  {
   "cell_type": "code",
   "execution_count": 43,
   "id": "b70df84d",
   "metadata": {},
   "outputs": [],
   "source": [
    "xbar = []\n",
    "k = 10000\n",
    "n=100\n",
    "for i in range(0,k):\n",
    "    sample = np.random.choice(data,n,replace=0)\n",
    "    mean = np.mean(sample)\n",
    "    xbar.append(mean)"
   ]
  },
  {
   "cell_type": "code",
   "execution_count": 44,
   "id": "96818666",
   "metadata": {},
   "outputs": [
    {
     "data": {
      "text/plain": [
       "1.0069886379639088"
      ]
     },
     "execution_count": 44,
     "metadata": {},
     "output_type": "execute_result"
    }
   ],
   "source": [
    "np.mean(xbar)"
   ]
  },
  {
   "cell_type": "code",
   "execution_count": 45,
   "id": "e015b19b",
   "metadata": {},
   "outputs": [
    {
     "data": {
      "text/plain": [
       "<AxesSubplot:ylabel='Count'>"
      ]
     },
     "execution_count": 45,
     "metadata": {},
     "output_type": "execute_result"
    },
    {
     "data": {
      "image/png": "[encoded data removed]",
      "text/plain": [
       "<Figure size 432x288 with 1 Axes>"
      ]
     },
     "metadata": {
      "needs_background": "light"
     },
     "output_type": "display_data"
    }
   ],
   "source": [
    "sns.histplot(xbar)"
   ]
  },
  {
   "cell_type": "code",
   "execution_count": 46,
   "id": "99ea8098",
   "metadata": {
    "scrolled": true
   },
   "outputs": [
    {
     "data": {
      "image/png": "[encoded data removed]",
      "text/plain": [
       "<Figure size 432x288 with 1 Axes>"
      ]
     },
     "metadata": {
      "needs_background": "light"
     },
     "output_type": "display_data"
    }
   ],
   "source": [
    "plt.hist(xbar,50)\n",
    "plt.show()"
   ]
  },
  {
   "cell_type": "code",
   "execution_count": 47,
   "id": "8e1319d2",
   "metadata": {
    "scrolled": true
   },
   "outputs": [
    {
     "data": {
      "text/plain": [
       "array([-0.15679727,  1.75485452,  0.42706734, ...,  0.77119623,\n",
       "       -1.71418593,  0.47056432])"
      ]
     },
     "execution_count": 47,
     "metadata": {},
     "output_type": "execute_result"
    }
   ],
   "source": [
    "z = (xbar-mu )/(sigma/100**0.5)\n",
    "z"
   ]
  },
  {
   "cell_type": "code",
   "execution_count": 48,
   "id": "e45bf695",
   "metadata": {
    "scrolled": true
   },
   "outputs": [
    {
     "data": {
      "image/png": "[encoded data removed]",
      "text/plain": [
       "<Figure size 432x288 with 1 Axes>"
      ]
     },
     "metadata": {
      "needs_background": "light"
     },
     "output_type": "display_data"
    }
   ],
   "source": [
    "plt.hist(z,50)\n",
    "plt.show()"
   ]
  },
  {
   "cell_type": "code",
   "execution_count": 49,
   "id": "2b6b2b09",
   "metadata": {},
   "outputs": [],
   "source": [
    "from scipy import stats as st"
   ]
  },
  {
   "cell_type": "code",
   "execution_count": 50,
   "id": "cd05a33b",
   "metadata": {},
   "outputs": [
    {
     "data": {
      "text/plain": [
       "1.6448536269514729"
      ]
     },
     "execution_count": 50,
     "metadata": {},
     "output_type": "execute_result"
    }
   ],
   "source": [
    "alpha = 0.05    #alpha/2\n",
    "z = st.norm.isf(alpha)\n",
    "z"
   ]
  },
  {
   "cell_type": "code",
   "execution_count": 51,
   "id": "a1d68a48",
   "metadata": {},
   "outputs": [
    {
     "data": {
      "text/plain": [
       "1.4988107133894557"
      ]
     },
     "execution_count": 51,
     "metadata": {},
     "output_type": "execute_result"
    }
   ],
   "source": [
    "up = mu +(z*sigma/np.sqrt(n))  #mu + z alpha/2 X sigma/root(n)\n",
    "up"
   ]
  },
  {
   "cell_type": "code",
   "execution_count": 52,
   "id": "220185e1",
   "metadata": {},
   "outputs": [
    {
     "data": {
      "text/plain": [
       "0.5101993409461639"
      ]
     },
     "execution_count": 52,
     "metadata": {},
     "output_type": "execute_result"
    }
   ],
   "source": [
    "low = mu - (z*sigma/np.sqrt(n)) #mu + z alpha/2 X sigma/root(n)\n",
    "low"
   ]
  },
  {
   "cell_type": "code",
   "execution_count": 53,
   "id": "39065a5f",
   "metadata": {},
   "outputs": [
    {
     "data": {
      "text/plain": [
       "468"
      ]
     },
     "execution_count": 53,
     "metadata": {},
     "output_type": "execute_result"
    }
   ],
   "source": [
    "sum(xbar>up)"
   ]
  },
  {
   "cell_type": "code",
   "execution_count": 54,
   "id": "2adb115a",
   "metadata": {},
   "outputs": [
    {
     "data": {
      "text/plain": [
       "9533"
      ]
     },
     "execution_count": 54,
     "metadata": {},
     "output_type": "execute_result"
    }
   ],
   "source": [
    "sum(xbar>low)"
   ]
  },
  {
   "cell_type": "code",
   "execution_count": 55,
   "id": "c80d7636",
   "metadata": {},
   "outputs": [
    {
     "data": {
      "text/plain": [
       "467"
      ]
     },
     "execution_count": 55,
     "metadata": {},
     "output_type": "execute_result"
    }
   ],
   "source": [
    "sum(xbar<low)"
   ]
  },
  {
   "cell_type": "code",
   "execution_count": 56,
   "id": "f0cffc36",
   "metadata": {},
   "outputs": [
    {
     "data": {
      "text/plain": [
       "0.9065"
      ]
     },
     "execution_count": 56,
     "metadata": {},
     "output_type": "execute_result"
    }
   ],
   "source": [
    "(sum(xbar>low) - sum(xbar>up))/len(xbar)"
   ]
  },
  {
   "cell_type": "markdown",
   "id": "57d16e25",
   "metadata": {},
   "source": [
    "# <center> distribution of mean of sample"
   ]
  },
  {
   "cell_type": "markdown",
   "id": "4320809c",
   "metadata": {},
   "source": [
    "## <center> 1st experiment"
   ]
  },
  {
   "cell_type": "code",
   "execution_count": 57,
   "id": "8f5f9529",
   "metadata": {},
   "outputs": [],
   "source": [
    "import numpy as np\n",
    "import matplotlib.pyplot as plt\n",
    "from scipy import stats as st"
   ]
  },
  {
   "cell_type": "code",
   "execution_count": 58,
   "id": "3de4f133",
   "metadata": {},
   "outputs": [
    {
     "data": {
      "image/png": "[encoded data removed]",
      "text/plain": [
       "<Figure size 432x288 with 1 Axes>"
      ]
     },
     "metadata": {
      "needs_background": "light"
     },
     "output_type": "display_data"
    },
    {
     "data": {
      "image/png": "[encoded data removed]",
      "text/plain": [
       "<Figure size 432x288 with 1 Axes>"
      ]
     },
     "metadata": {
      "needs_background": "light"
     },
     "output_type": "display_data"
    },
    {
     "data": {
      "image/png": "[encoded data removed]",
      "text/plain": [
       "<Figure size 432x288 with 1 Axes>"
      ]
     },
     "metadata": {
      "needs_background": "light"
     },
     "output_type": "display_data"
    },
    {
     "name": "stdout",
     "output_type": "stream",
     "text": [
      "mean of population and standard deviation of population is (18.46007, 8.06383070228412)\n",
      "mean of sample means and standard deviation of sample means is (18.4653766, 0.3579524177491193) for sample size 500\n"
     ]
    }
   ],
   "source": [
    "data = np.random.randint(5,33,100000)\n",
    "\n",
    "mu = np.mean(data)\n",
    "\n",
    "sigma = np.std(data)\n",
    "\n",
    "\n",
    "graph1 = plt.hist(data,25)\n",
    "plt.show()\n",
    "\n",
    "xbar = []\n",
    "k = 10000\n",
    "n = 500                #number of values in single sample is 500\n",
    "for i in range(0,k):\n",
    "    sample = np.random.choice(data,n,replace=0)\n",
    "    mean = np.mean(sample)\n",
    "    xbar.append(mean)\n",
    "\n",
    "graph2 = plt.hist(xbar,50)\n",
    "plt.show()\n",
    "z = (xbar-mu )/(sigma/100**0.5)\n",
    "\n",
    "graph3 = plt.hist(z,50)\n",
    "plt.show()\n",
    "print('mean of population and standard deviation of population is',(mu,sigma))\n",
    "print('mean of sample means and standard deviation of sample means is',(np.mean(xbar),np.std(xbar)),'for sample size',n)"
   ]
  },
  {
   "cell_type": "markdown",
   "id": "1252416a",
   "metadata": {},
   "source": [
    "## <center> 2nd experiment"
   ]
  },
  {
   "cell_type": "code",
   "execution_count": 59,
   "id": "0c90dfaa",
   "metadata": {},
   "outputs": [
    {
     "data": {
      "image/png": "[encoded data removed]",
      "text/plain": [
       "<Figure size 432x288 with 1 Axes>"
      ]
     },
     "metadata": {
      "needs_background": "light"
     },
     "output_type": "display_data"
    },
    {
     "data": {
      "image/png": "[encoded data removed]",
      "text/plain": [
       "<Figure size 432x288 with 1 Axes>"
      ]
     },
     "metadata": {
      "needs_background": "light"
     },
     "output_type": "display_data"
    },
    {
     "data": {
      "image/png": "[encoded data removed]",
      "text/plain": [
       "<Figure size 432x288 with 1 Axes>"
      ]
     },
     "metadata": {
      "needs_background": "light"
     },
     "output_type": "display_data"
    },
    {
     "name": "stdout",
     "output_type": "stream",
     "text": [
      "mean of population and standard deviation of population is (18.48477, 8.0853477381681)\n",
      "mean of sample means and standard deviation of sample means is (18.4927825, 0.8126257211618089) for sample size 100\n"
     ]
    }
   ],
   "source": [
    "data = np.random.randint(5,33,100000)\n",
    "\n",
    "mu = np.mean(data)\n",
    "\n",
    "sigma = np.std(data)\n",
    "\n",
    "\n",
    "graph1 = plt.hist(data,50)\n",
    "plt.show()\n",
    "\n",
    "xbar = []\n",
    "k = 20000\n",
    "n = 100                #number of values in single sample is 100\n",
    "for i in range(0,k):\n",
    "    sample = np.random.choice(data,n,replace=0)\n",
    "    mean = np.mean(sample)\n",
    "    xbar.append(mean)\n",
    "\n",
    "graph2 = plt.hist(xbar,50)\n",
    "plt.show()\n",
    "\n",
    "\n",
    "z = (xbar-mu )/(sigma/100**0.5)\n",
    "\n",
    "graph3 = plt.hist(z,50)\n",
    "plt.show()\n",
    "print('mean of population and standard deviation of population is',(mu,sigma))\n",
    "print('mean of sample means and standard deviation of sample means is',(np.mean(xbar),np.std(xbar)),'for sample size',n)"
   ]
  },
  {
   "cell_type": "markdown",
   "id": "1382e009",
   "metadata": {},
   "source": [
    "## <center> 3rd experiment"
   ]
  },
  {
   "cell_type": "code",
   "execution_count": 60,
   "id": "799232dc",
   "metadata": {},
   "outputs": [
    {
     "data": {
      "image/png": "[encoded data removed]",
      "text/plain": [
       "<Figure size 432x288 with 1 Axes>"
      ]
     },
     "metadata": {
      "needs_background": "light"
     },
     "output_type": "display_data"
    },
    {
     "data": {
      "image/png": "[encoded data removed]",
      "text/plain": [
       "<Figure size 432x288 with 1 Axes>"
      ]
     },
     "metadata": {
      "needs_background": "light"
     },
     "output_type": "display_data"
    },
    {
     "data": {
      "image/png": "[encoded data removed]",
      "text/plain": [
       "<Figure size 432x288 with 1 Axes>"
      ]
     },
     "metadata": {
      "needs_background": "light"
     },
     "output_type": "display_data"
    },
    {
     "name": "stdout",
     "output_type": "stream",
     "text": [
      "mean of population and standard deviation of population is (33.01758972693276, 4.9921609333305526)\n",
      "mean of sample means and standard deviation of sample means is (33.015133238086776, 0.22252589867624695) for sample size 500\n"
     ]
    }
   ],
   "source": [
    "data = np.random.normal(loc=33, scale=5, size=100000) #normal distribution\n",
    "\n",
    "mu = np.mean(data)\n",
    "\n",
    "sigma = np.std(data)\n",
    "\n",
    "\n",
    "graph1 = plt.hist(data,50)\n",
    "plt.show()\n",
    "\n",
    "xbar = []\n",
    "k = 20000\n",
    "n = 500\n",
    "for i in range(0,k):\n",
    "    sample = np.random.choice(data,n,replace=0)\n",
    "    mean = np.mean(sample)\n",
    "    xbar.append(mean)\n",
    "\n",
    "graph2 = plt.hist(xbar,50)\n",
    "plt.show()\n",
    "\n",
    "\n",
    "z = (xbar-mu )/(sigma/100**0.5)\n",
    "\n",
    "graph3 = plt.hist(z,50)\n",
    "plt.show()\n",
    "print('mean of population and standard deviation of population is',(mu,sigma))\n",
    "print('mean of sample means and standard deviation of sample means is',(np.mean(xbar),np.std(xbar)),'for sample size',n)"
   ]
  },
  {
   "cell_type": "markdown",
   "id": "f3bc1b43",
   "metadata": {},
   "source": [
    "## <center> 4th experiment"
   ]
  },
  {
   "cell_type": "code",
   "execution_count": 61,
   "id": "ab24fa0a",
   "metadata": {},
   "outputs": [
    {
     "data": {
      "image/png": "[encoded data removed]",
      "text/plain": [
       "<Figure size 432x288 with 1 Axes>"
      ]
     },
     "metadata": {
      "needs_background": "light"
     },
     "output_type": "display_data"
    },
    {
     "data": {
      "image/png": "[encoded data removed]",
      "text/plain": [
       "<Figure size 432x288 with 1 Axes>"
      ]
     },
     "metadata": {
      "needs_background": "light"
     },
     "output_type": "display_data"
    },
    {
     "data": {
      "image/png": "[encoded data removed]",
      "text/plain": [
       "<Figure size 432x288 with 1 Axes>"
      ]
     },
     "metadata": {
      "needs_background": "light"
     },
     "output_type": "display_data"
    },
    {
     "name": "stdout",
     "output_type": "stream",
     "text": [
      "mean of population and standard deviation of population is (33.003613710930885, 2.0023933810817516)\n",
      "mean of sample means and standard deviation of sample means is (33.004002284784285, 0.08954252443148879) for sample size 500\n"
     ]
    }
   ],
   "source": [
    "data = np.random.normal(loc=33, scale=2, size=100000)  #normal distribution with sigma = 2\n",
    "\n",
    "mu = np.mean(data)\n",
    "\n",
    "sigma = np.std(data)\n",
    "\n",
    "\n",
    "graph1 = plt.hist(data,50)\n",
    "plt.show()\n",
    "\n",
    "xbar = []\n",
    "k = 20000\n",
    "n = 500\n",
    "for i in range(0,k):\n",
    "    sample = np.random.choice(data,n,replace=0)\n",
    "    mean = np.mean(sample)\n",
    "    xbar.append(mean)\n",
    "\n",
    "graph2 = plt.hist(xbar,50)\n",
    "plt.show()\n",
    "\n",
    "\n",
    "z = (xbar-mu )/(sigma/100**0.5)\n",
    "\n",
    "graph3 = plt.hist(z,50)\n",
    "plt.show()\n",
    "print('mean of population and standard deviation of population is',(mu,sigma))\n",
    "print('mean of sample means and standard deviation of sample means is',(np.mean(xbar),np.std(xbar)),'for sample size',n)"
   ]
  },
  {
   "cell_type": "markdown",
   "id": "fc5f334b",
   "metadata": {},
   "source": [
    "## <center> 5th experiment"
   ]
  },
  {
   "cell_type": "code",
   "execution_count": 62,
   "id": "abd8108b",
   "metadata": {},
   "outputs": [
    {
     "data": {
      "image/png": "[encoded data removed]",
      "text/plain": [
       "<Figure size 432x288 with 1 Axes>"
      ]
     },
     "metadata": {
      "needs_background": "light"
     },
     "output_type": "display_data"
    },
    {
     "data": {
      "image/png": "[encoded data removed]",
      "text/plain": [
       "<Figure size 432x288 with 1 Axes>"
      ]
     },
     "metadata": {
      "needs_background": "light"
     },
     "output_type": "display_data"
    },
    {
     "data": {
      "image/png": "[encoded data removed]",
      "text/plain": [
       "<Figure size 432x288 with 1 Axes>"
      ]
     },
     "metadata": {
      "needs_background": "light"
     },
     "output_type": "display_data"
    },
    {
     "name": "stdout",
     "output_type": "stream",
     "text": [
      "mean of population and standard deviation of population is (9.99689083380242, 0.9994279394041762)\n",
      "mean of sample means and standard deviation of sample means is (9.996410897246008, 0.44637823650162606) for sample size 5\n"
     ]
    }
   ],
   "source": [
    "data = np.random.normal(loc=10, scale=1, size=100000)\n",
    "\n",
    "mu = np.mean(data)\n",
    "\n",
    "sigma = np.std(data)\n",
    "\n",
    "\n",
    "graph1 = plt.hist(data,50)\n",
    "plt.show()\n",
    "\n",
    "xbar = []\n",
    "k = 20000\n",
    "n = 5                        #number of values in one sample less than 30\n",
    "for i in range(0,k):\n",
    "    sample = np.random.choice(data,n,replace=0)\n",
    "    mean = np.mean(sample)\n",
    "    xbar.append(mean)\n",
    "\n",
    "graph2 = plt.hist(xbar,50)\n",
    "plt.show()\n",
    "\n",
    "\n",
    "z = (xbar-mu )/(sigma/100**0.5)\n",
    "\n",
    "graph3 = plt.hist(z,50)\n",
    "plt.show()\n",
    "print('mean of population and standard deviation of population is',(mu,sigma))\n",
    "print('mean of sample means and standard deviation of sample means is',(np.mean(xbar),np.std(xbar)),'for sample size',n)"
   ]
  },
  {
   "cell_type": "code",
   "execution_count": null,
   "id": "30505529",
   "metadata": {},
   "outputs": [],
   "source": []
  },
  {
   "cell_type": "code",
   "execution_count": null,
   "id": "f7dd6147",
   "metadata": {},
   "outputs": [],
   "source": []
  }
 ],
 "metadata": {
  "kernelspec": {
   "display_name": "Python 3 (ipykernel)",
   "language": "python",
   "name": "python3"
  },
  "language_info": {
   "codemirror_mode": {
    "name": "ipython",
    "version": 3
   },
   "file_extension": ".py",
   "mimetype": "text/x-python",
   "name": "python",
   "nbconvert_exporter": "python",
   "pygments_lexer": "ipython3",
   "version": "3.9.12"
  }
 },
 "nbformat": 4,
 "nbformat_minor": 5
}
